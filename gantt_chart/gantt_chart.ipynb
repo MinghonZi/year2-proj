{
 "cells": [
  {
   "cell_type": "code",
   "execution_count": null,
   "metadata": {},
   "outputs": [],
   "source": [
    "import plotly.express as px\n",
    "import pandas as pd\n",
    "\n",
    "tasks = pd.DataFrame([\n",
    "    dict(start='2022-02-11', finish='2022-03-18', completion_percentage=15, Task=\"Maintaining this Gantt Chart\", resource=\"Minghong Xu\"),\n",
    "    dict(start='2022-02-03', finish='2022-03-03', completion_percentage=5, Task=\"Weekly Blog\", resource=\"Kai Yang, Minghong Xu\"),\n",
    "    dict(start='2022-01-31', finish='2022-02-28', completion_percentage=20, Task=\"Supervisor Weekly Meeting Log\", resource=\"Zepeng Pang\"),\n",
    "    dict(start='2022-02-03', finish='2022-03-03', completion_percentage=0, Task=\"Logbook\", resource=\"TBD\"),\n",
    "    dict(start='2022-02-19', finish='2022-03-03', completion_percentage=0, Task=\"Poster\", resource=\"TBD\"),\n",
    "    dict(start='2022-02-24', finish='2022-03-03', completion_percentage=0, Task=\"Demonstration Video\", resource=\"TBD\"),\n",
    "    dict(start='2022-03-03', finish='2022-03-18', completion_percentage=0, Task=\"Technical Report\", resource=\"TBD\"),\n",
    "    dict(start='2022-02-03', finish='2022-02-10', completion_percentage=100, Task=\"Setup Sim Env\", resource=\"Minghong Xu\"),\n",
    "    dict(start='2022-02-03', finish='2022-02-17', completion_percentage=30, Task=\"Researching\", resource=\"Minghong Xu, Kai Yang, Zepen Pang, Zehao Ye\"),\n",
    "    dict(start='2022-02-10', finish='2022-02-17', completion_percentage=50, Task=\"Standing\", resource=\"Minghong Xu\"),\n",
    "    dict(start='2022-02-11', finish='2022-03-18', completion_percentage=0, Task=\"Walking\", resource=\"Minghong Xu\"),\n",
    "    dict(start='2022-02-11', finish='2022-02-24', completion_percentage=0, Task=\"Motion 1\", resource=\"Kai Yang\"),\n",
    "    dict(start='2022-02-11', finish='2022-02-24', completion_percentage=0, Task=\"Motion 2\", resource=\"Zepen Pang\"),\n",
    "    dict(start='2022-02-11', finish='2022-02-24', completion_percentage=0, Task=\"Motion 3\", resource=\"Zehao Ye\"),\n",
    "])\n",
    "\n",
    "fig = px.timeline(\n",
    "    title = \"Simulation of Quadruped-robot Locomotion\",\n",
    "    data_frame = tasks,\n",
    "    x_start = \"start\", x_end = \"finish\",\n",
    "    y = \"Task\",\n",
    "    template = \"plotly_dark\",\n",
    "    text=\"resource\",\n",
    "    hover_name = \"Task\",\n",
    "    hover_data = {'Task':False, \"resource\":False},\n",
    "    color = \"completion_percentage\",\n",
    "    color_continuous_scale = 'RdYlGn',\n",
    "    opacity=0.85,)\n",
    "\n",
    "fig.layout.coloraxis.colorbar.title = 'completion (%)'\n",
    "fig.update_yaxes(autorange=\"reversed\")\n",
    "\n",
    "fig.show()"
   ]
  },
  {
   "cell_type": "code",
   "execution_count": null,
   "metadata": {},
   "outputs": [],
   "source": [
    "fig.write_image(\"./gantt_chart.svg\")\n",
    "fig.write_html(\"./gantt_chart.html\")"
   ]
  },
  {
   "cell_type": "markdown",
   "metadata": {},
   "source": [
    "- https://plotly.com/python/gantt/\n",
    "- https://plotly.com/python-api-reference/generated/plotly.express.timeline.html\n",
    "- https://plotly.com/python/builtin-colorscales/\n",
    "- https://stackoverflow.com/questions/57167826/how-to-reverse-the-color-scale-in-a-plotly-express-map"
   ]
  }
 ],
 "metadata": {
  "interpreter": {
   "hash": "76eb21602c73fe50ba428e4b168441f6cd49dc1e018e52393d96586aeb80a673"
  },
  "kernelspec": {
   "display_name": "Python 3.9.4 ('simulation-jjn6V2Gt-py3.9')",
   "language": "python",
   "name": "python3"
  },
  "language_info": {
   "codemirror_mode": {
    "name": "ipython",
    "version": 3
   },
   "file_extension": ".py",
   "mimetype": "text/x-python",
   "name": "python",
   "nbconvert_exporter": "python",
   "pygments_lexer": "ipython3",
   "version": "3.9.4"
  },
  "orig_nbformat": 4
 },
 "nbformat": 4,
 "nbformat_minor": 2
}
