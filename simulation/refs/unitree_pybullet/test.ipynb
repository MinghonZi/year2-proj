{
 "cells": [
  {
   "cell_type": "code",
   "execution_count": null,
   "metadata": {},
   "outputs": [],
   "source": []
  }
 ],
 "metadata": {
  "interpreter": {
   "hash": "419494391b355dbceb4526f93e7b71f6d3632c50a75dfa0c8243dd417c40c140"
  },
  "kernelspec": {
   "display_name": "Python 3.10.2 64-bit ('simulation-qjnORELU-py3.10': poetry)",
   "language": "python",
   "name": "python3"
  },
  "language_info": {
   "name": "python",
   "version": "3.10.2"
  },
  "orig_nbformat": 4
 },
 "nbformat": 4,
 "nbformat_minor": 2
}
